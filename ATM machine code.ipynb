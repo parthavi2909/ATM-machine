{
 "cells": [
  {
   "cell_type": "raw",
   "metadata": {},
   "source": [
    "ATM Machine  - project\n",
    "Balance amount = 10000\n",
    "Chances = 3\n",
    "\n",
    "Pin: 1234\n",
    "Options (what options you like to choose)\n",
    "If pin wrong  - print you entered your incorrect\n",
    "If pin right – print you entered your pin correctly\n",
    "Press 1 – for your balance\n",
    "Press 2 to withdraw [50,100,200,500]\n",
    "If withdraw:  money should be deducted from balance amount and need to display\n",
    "Press 3 to pay in\n",
    "If pay in -  money should be added in balance amount\n",
    "Press 4 to return card\n",
    "Restart (would you like to go back) or else thank you)\n"
   ]
  },
  {
   "cell_type": "code",
   "execution_count": null,
   "metadata": {},
   "outputs": [
    {
     "name": "stdout",
     "output_type": "stream",
     "text": [
      "enter pin here:6743\n",
      "Incorrect pin\n"
     ]
    }
   ],
   "source": [
    "balance_amount=10000\n",
    "chances =3\n",
    "pin=1234\n",
    "chance=0\n",
    "\n",
    "\n",
    "while chance<chances:\n",
    "        a=int(input((\"enter pin here:\")))\n",
    "        if a!=pin:\n",
    "            print(\"Incorrect pin\")\n",
    "            chance=chance+1\n",
    "        elif a==pin:\n",
    "            print('''Press 1 to check your balance\n",
    "Press 2 to withdraw money- 50, 100, 200, 500\n",
    "Press 3 to add money\n",
    "Press 4 Restart''')\n",
    "            press=int(input(\">\"))\n",
    "            if press==1:\n",
    "                      print(f'Balance amount is {balance_amount}')\n",
    "            elif press==2:\n",
    "                    withdraw=[50,100,200,500]\n",
    "                    drawing=int(input('choose amount from 50,100,200,500:'))\n",
    "                    balance_amount=balance_amount-drawing\n",
    "                    print(f'Balance amount is :{balance_amount}')\n",
    "            elif press==3:\n",
    "                    add_amount=int(input(\"Amount to add :\"))\n",
    "                    balance_amount=balance_amount+add_amount\n",
    "                    print(f' Amount after adding is:{balance_amount}')\n",
    "            elif press==4:\n",
    "                    restart_return=input(\"do you want to restart or return card? \")\n",
    "                    status=restart_return.lower()\n",
    "                    if status==\"return\":\n",
    "                        print('Thank You')\n",
    "                        break\n",
    "                    elif status==\"restart\":\n",
    "                            a=int(input((\"enter pin here:\")))\n",
    "                            chance=0\n",
    "                            if chance<=chances:\n",
    "                                if a!=pin:\n",
    "                                    print(\"Incorrect pin\")\n",
    "                                elif a==pin:\n",
    "                                        print('''Press 1 to check your balance\n",
    "Press 2 to withdraw money- 50, 100, 200, 500\n",
    "Press 3 to add money\n",
    "Press 4 Restart''')\n",
    "                                        press=int(input(\">\"))\n",
    "                                        if press==1:\n",
    "                                            print(f'Balance amount is {balance_amount}')\n",
    "                                        elif press==2:\n",
    "                                            withdraw=[50,100,200,500]\n",
    "                                            drawing=int(input('choose amount from 50,100,200,500:'))\n",
    "                                            balance_amount=balance_amount-drawing\n",
    "                                            print(f'Balance amount is :{balance_amount}')\n",
    "                                        elif press==3:\n",
    "                                            add_amount=int(input(\"Amount to add :\"))\n",
    "                                            balance_amount=balance_amount+add_amount\n",
    "                                            print(f' Amount after adding is:{balance_amount}')\n",
    "            \n",
    "                                        elif press==4:\n",
    "                                           restart_return=input(\"do you want to restart or return card? \")\n",
    "                                           status=restart_return.lower()\n",
    "                                           if status==\"return\":\n",
    "                                                 print('Thank You')\n",
    "                                                 break\n",
    "                \n",
    "            else:\n",
    "                print(\"I don't understand\")\n",
    "                break\n",
    "            "
   ]
  },
  {
   "cell_type": "code",
   "execution_count": null,
   "metadata": {},
   "outputs": [],
   "source": []
  }
 ],
 "metadata": {
  "kernelspec": {
   "display_name": "Python 3",
   "language": "python",
   "name": "python3"
  },
  "language_info": {
   "codemirror_mode": {
    "name": "ipython",
    "version": 3
   },
   "file_extension": ".py",
   "mimetype": "text/x-python",
   "name": "python",
   "nbconvert_exporter": "python",
   "pygments_lexer": "ipython3",
   "version": "3.8.8"
  }
 },
 "nbformat": 4,
 "nbformat_minor": 4
}
